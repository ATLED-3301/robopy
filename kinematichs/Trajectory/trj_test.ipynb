{
 "metadata": {
  "language_info": {
   "codemirror_mode": {
    "name": "ipython",
    "version": 3
   },
   "file_extension": ".py",
   "mimetype": "text/x-python",
   "name": "python",
   "nbconvert_exporter": "python",
   "pygments_lexer": "ipython3",
   "version": "3.8.5-final"
  },
  "orig_nbformat": 2,
  "kernelspec": {
   "name": "python38264bit20aec0338a4c46008f6e4603d0e873c8",
   "display_name": "Python 3.8.2 64-bit"
  }
 },
 "nbformat": 4,
 "nbformat_minor": 2,
 "cells": [
  {
   "cell_type": "code",
   "execution_count": 1,
   "metadata": {},
   "outputs": [],
   "source": [
    "%matplotlib widget\n",
    "from trajectory_generator import generate_trj_bezier\n",
    "from trajectory_generator import generate_bspline\n",
    "import numpy as np\n",
    "from matplotlib import pyplot as plt  \n",
    "from mpl_toolkits.mplot3d import Axes3D"
   ]
  },
  {
   "cell_type": "code",
   "execution_count": 2,
   "metadata": {},
   "outputs": [],
   "source": [
    "NN = np.nan\n",
    "\n",
    "A = np.asarray([0.222 ,0.02375,-0.25456 ,NN,NN,NN])\n",
    "B = np.asarray([0.232 ,0.023,0.24456 ,NN,NN,NN])\n",
    "C = np.asarray([0.222 ,0.02375,-0.25456 ,NN,NN,NN])\n",
    "#D = np.asarray([0.291 ,0.024,-0.255 ,NN,NN,NN])"
   ]
  },
  {
   "cell_type": "code",
   "execution_count": 3,
   "metadata": {},
   "outputs": [],
   "source": [
    "#curva di bezier\n",
    "#choords = generate_trj_bezier(A,C,B)\n",
    "#fig = plt.figure()\n",
    "#ax = fig.add_subplot(111, projection='3d')\n",
    "#B = B.T\n",
    "#ax.scatter(B[0],B[1],B[2])\n",
    "#ax.plot(choords.T[0],choords.T[1],choords.T[2])\n",
    "#plt.show()\n",
    "#print(choords)\n",
    "#print(angles)"
   ]
  },
  {
   "cell_type": "code",
   "execution_count": 4,
   "metadata": {},
   "outputs": [
    {
     "output_type": "display_data",
     "data": {
      "text/plain": "Canvas(toolbar=Toolbar(toolitems=[('Home', 'Reset original view', 'home', 'home'), ('Back', 'Back to previous …",
      "application/vnd.jupyter.widget-view+json": {
       "version_major": 2,
       "version_minor": 0,
       "model_id": "9d7250073a7148ee972b5e48ef698aeb"
      }
     },
     "metadata": {}
    }
   ],
   "source": [
    "#Bspline\n",
    "\n",
    "import matplotlib.pyplot as plt\n",
    "from trajectory_generator import bspline\n",
    "import numpy as np\n",
    "\n",
    "fig = plt.figure()\n",
    "ax = fig.add_subplot(111, projection='3d')\n",
    "\n",
    "A = np.asarray([0.222 ,0.02375,-0.25456 ,NN,NN,NN])\n",
    "B = np.asarray([0.222 ,0.05,0.24456 ,NN,NN,NN])\n",
    "C = np.asarray([0.222 ,0.02375,-0.7456 ,NN,NN,NN])\n",
    "\n",
    "cv = np.array([A,\n",
    "  B,\n",
    "  B,\n",
    "   C\n",
    "   ])\n",
    "\n",
    "ax.scatter(cv[:,0],cv[:,1],cv[:,2])\n",
    "\n",
    "\n",
    "p = generate_bspline(cv,degree = 5,N=6)\n",
    "\n",
    "x = p[:,0]\n",
    "y = p[:,1]\n",
    "z = p[:,2]\n",
    "ax.plot(x,y,z)\n",
    "\n",
    "plt.show()"
   ]
  },
  {
   "cell_type": "code",
   "execution_count": null,
   "metadata": {},
   "outputs": [],
   "source": []
  }
 ]
}