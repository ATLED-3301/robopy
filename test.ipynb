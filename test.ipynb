{
 "metadata": {
  "language_info": {
   "codemirror_mode": {
    "name": "ipython",
    "version": 3
   },
   "file_extension": ".py",
   "mimetype": "text/x-python",
   "name": "python",
   "nbconvert_exporter": "python",
   "pygments_lexer": "ipython3",
   "version": "3.8.5-final"
  },
  "orig_nbformat": 2,
  "kernelspec": {
   "name": "python3",
   "display_name": "Python 3"
  }
 },
 "nbformat": 4,
 "nbformat_minor": 2,
 "cells": [
  {
   "source": [
    "%matplotlib widget\n",
    "from ipywidgets import widgets\n",
    "import mpld3\n",
    "import ipywidgets as widgets\n",
    "import matplotlib.pyplot as plt\n",
    "import matplotlib \n",
    "from mpl_toolkits.mplot3d import Axes3D\n",
    "import numpy as np\n",
    "from kinematichs.serial.parametrization import Joint\n",
    "from kinematichs.serial.serial_chain import Kinematichs_chain\n",
    "from kinematichs.parallel.parallel import Parallel_chain\n",
    "from kinematichs.serial.tasks import Task\n",
    "from kinematichs.support.base_func import euler_angles\n",
    "import numpy as np\n",
    "import matplotlib\n"
   ],
   "cell_type": "code",
   "metadata": {},
   "execution_count": 1,
   "outputs": []
  },
  {
   "cell_type": "code",
   "execution_count": 2,
   "metadata": {},
   "outputs": [],
   "source": [
    "L01X = 0.066\n",
    "L01Z = -0.0825\n",
    "L12 = 0.12\n",
    "L23 = 0.0375\n",
    "L34 = 0.07\n",
    "L45 = 0.126\n",
    "DY23 = -0.02375\n",
    "DZ23 = -0.02794\n",
    "\n",
    "L01X_U = 0.0800\n",
    "L01Z_U = 0.0825\n",
    "L12_U = 0.06\n",
    "L23_U = 0.08\n",
    "offset_U_1 = np.pi/10\n",
    "offset_U_2 = np.pi/2\n",
    "NN = np.nan"
   ]
  },
  {
   "cell_type": "code",
   "execution_count": 3,
   "metadata": {},
   "outputs": [],
   "source": [
    "def t_cil(x,y,z):\n",
    "    h = z\n",
    "    theta = np.arctan2(y,x)\n",
    "    r = np.sqrt( np.power(x,2) + np.power(y,2) )\n",
    "    return r,h,theta"
   ]
  },
  {
   "cell_type": "code",
   "execution_count": 4,
   "metadata": {},
   "outputs": [],
   "source": [
    "serial_k1 = []\n",
    "for i in range(0,6):\n",
    "    T00 = Joint(0,0,0,0,\"none\",\"J00\")   \n",
    "    T01 = Joint(L01Z,i*np.pi/3,0,0,\"none\",\"J01\")   \n",
    "    T12 = Joint(0,0,L01X,0,\"none\",\"J12\")\n",
    "    T23 = Joint(0,0,L12,0,\"theta\",\"joint_1\")\n",
    "    T34 = Joint(DZ23,0,L23,np.pi/2,\"theta\",\"joint_2\")\n",
    "    T45 = Joint(DY23,0,0,0,\"none\",\"J45\")\n",
    "    T56 = Joint(0,-np.pi/2+np.pi/3,L34,0,\"theta\",\"joint_3\")\n",
    "    T67 = Joint(0,-np.pi/2,L45,0,\"theta\",\"joint_4\")\n",
    "    T = [T00,T01,T12,T23,T34,T45,T56,T67]\n",
    "    k_chain = Kinematichs_chain(T,str(\"serial\"+str(i)))\n",
    "    serial_k1.append(k_chain)\n",
    "\n",
    "parallel1 = Parallel_chain(serial_k1,\"lower_parallel\")\n",
    "actv_i = [\"joint_2\",\"joint_3\",\"joint_3\"]\n",
    "acv = [actv_i,actv_i,actv_i,actv_i,actv_i,actv_i]"
   ]
  },
  {
   "cell_type": "code",
   "execution_count": 5,
   "metadata": {},
   "outputs": [],
   "source": [
    "serial_k2 = []\n",
    "for i in range(0,6):\n",
    "    T00 = Joint(0,0,0,0,\"none\",\"J00\")   \n",
    "    T01 = Joint(0,i*np.pi/3,0,0,\"none\",\"J01\")\n",
    "    T12 = Joint(L01X_U,0,L01Z_U,0,\"none\",\"J12\")   \n",
    "    T23 = Joint(0,0,0,np.pi/2,\"none\",\"J23\")   \n",
    "    T34 = Joint(0,offset_U_1,L12,0,\"theta\",\"joint_1\")   \n",
    "    T45 = Joint(0,offset_U_2,L23,0,\"theta\",\"joint_2\")\n",
    "    T = [T00,T01,T12,T23,T34,T45]\n",
    "    k_chain = Kinematichs_chain(T,str(\"serial\"+str(i)))\n",
    "    serial_k2.append(k_chain)\n",
    "\n",
    "parallel2 = Parallel_chain(serial_k2,\"upper_parallel\")\n"
   ]
  },
  {
   "cell_type": "code",
   "execution_count": null,
   "metadata": {},
   "outputs": [],
   "source": [
    "#parallel1.move_serial(\"serial0\",[[0 ,0 , np.nan ,0, 0.0, 0.01 ]])"
   ]
  },
  {
   "cell_type": "code",
   "execution_count": 8,
   "metadata": {
    "tags": []
   },
   "outputs": [
    {
     "output_type": "execute_result",
     "data": {
      "text/plain": [
       "array([[ 0.        ,  0.        , -0.29292394, -0.71041673,  0.        ,\n",
       "         0.        , -0.29292394, -0.71041673,  0.        ,  0.        ,\n",
       "        -0.29292394, -0.71041673,  0.        ,  0.        , -0.29292394,\n",
       "        -0.71041673,  0.        ,  0.        , -0.29292394, -0.71041673,\n",
       "         0.        ,  0.        , -0.29292394, -0.71041673],\n",
       "       [ 0.        ,  0.        , -0.31388174, -0.74402031,  0.        ,\n",
       "         0.        , -0.31388174, -0.74402031,  0.        ,  0.        ,\n",
       "        -0.31388174, -0.74402031,  0.        ,  0.        , -0.31388174,\n",
       "        -0.74402031,  0.        ,  0.        , -0.31388174, -0.74402031,\n",
       "         0.        ,  0.        , -0.31388174, -0.74402031]])"
      ]
     },
     "metadata": {},
     "execution_count": 8
    }
   ],
   "source": [
    "parallel1.IK_solve_floating_base_points([[NN,NN, -0.05 ,NN,NN,NN], [NN, NN ,-0.05 , NN ,NN,NN]],active=\"all\")\n",
    "\n",
    "\n"
   ]
  },
  {
   "cell_type": "code",
   "execution_count": 7,
   "metadata": {},
   "outputs": [
    {
     "output_type": "display_data",
     "data": {
      "text/plain": "Canvas(toolbar=Toolbar(toolitems=[('Home', 'Reset original view', 'home', 'home'), ('Back', 'Back to previous …",
      "application/vnd.jupyter.widget-view+json": {
       "version_major": 2,
       "version_minor": 0,
       "model_id": "3c247d1ff68c4aefa36703f79d7f34eb"
      }
     },
     "metadata": {}
    },
    {
     "output_type": "stream",
     "name": "stdout",
     "text": [
      "---\n",
      "leg_U 0 ee location : [0.185 0.    0.153]\n",
      "leg_U 0 ee eulers angles : [-1.571  1.571 -0.785]\n",
      "leg_U 0 ee cilindric [0.185 0.153 0.   ]\n",
      "---\n",
      "leg_U 1 ee location : [0.093 0.16  0.153]\n",
      "leg_U 1 ee eulers angles : [-0.524  1.571 -0.785]\n",
      "leg_U 1 ee cilindric [0.185 0.153 1.047]\n",
      "---\n",
      "leg_U 2 ee location : [-0.093  0.16   0.153]\n",
      "leg_U 2 ee eulers angles : [ 0.524  1.571 -0.785]\n",
      "leg_U 2 ee cilindric [0.185 0.153 2.094]\n",
      "---\n",
      "leg_U 3 ee location : [-0.185  0.     0.153]\n",
      "leg_U 3 ee eulers angles : [ 1.571  1.571 -0.785]\n",
      "leg_U 3 ee cilindric [0.185 0.153 3.142]\n",
      "---\n",
      "leg_U 4 ee location : [-0.093 -0.16   0.153]\n",
      "leg_U 4 ee eulers angles : [ 2.618  1.571 -0.785]\n",
      "leg_U 4 ee cilindric [ 0.185  0.153 -2.094]\n",
      "---\n",
      "leg_U 5 ee location : [ 0.093 -0.16   0.153]\n",
      "leg_U 5 ee eulers angles : [-2.618  1.571 -0.785]\n",
      "leg_U 5 ee cilindric [ 0.185  0.153 -1.047]\n",
      "---\n",
      "leg_B 0 ee location : [ 0.166  0.024 -0.21 ]\n",
      "leg_B 0 ee cilindric [ 0.168 -0.21   0.142]\n",
      "leg_B 0 angles : [ 0.     0.    -0.139 -0.44 ] \n",
      "leg_B 0 ee eulers angles : [-1.571  1.571 -0.785]\n",
      "---\n",
      "leg_B 1 ee location : [ 0.063  0.156 -0.21 ]\n",
      "leg_B 1 ee cilindric [ 0.168 -0.21   1.189]\n",
      "leg_B 1 angles : [ 0.     0.    -0.139 -0.44 ] \n",
      "leg_B 1 ee eulers angles : [-0.524  1.571 -0.785]\n",
      "---\n",
      "leg_B 2 ee location : [-0.104  0.132 -0.21 ]\n",
      "leg_B 2 ee cilindric [ 0.168 -0.21   2.236]\n",
      "leg_B 2 angles : [ 0.     0.    -0.139 -0.44 ] \n",
      "leg_B 2 ee eulers angles : [ 0.524  1.571 -0.785]\n",
      "---\n",
      "leg_B 3 ee location : [-0.166 -0.024 -0.21 ]\n",
      "leg_B 3 ee cilindric [ 0.168 -0.21  -3.   ]\n",
      "leg_B 3 angles : [ 0.     0.    -0.139 -0.44 ] \n",
      "leg_B 3 ee eulers angles : [ 1.571  1.571 -0.785]\n",
      "---\n",
      "leg_B 4 ee location : [-0.063 -0.156 -0.21 ]\n",
      "leg_B 4 ee cilindric [ 0.168 -0.21  -1.953]\n",
      "leg_B 4 angles : [ 0.     0.    -0.139 -0.44 ] \n",
      "leg_B 4 ee eulers angles : [ 2.618  1.571 -0.785]\n",
      "---\n",
      "leg_B 5 ee location : [ 0.104 -0.132 -0.21 ]\n",
      "leg_B 5 ee cilindric [ 0.168 -0.21  -0.905]\n",
      "leg_B 5 angles : [ 0.     0.    -0.139 -0.44 ] \n",
      "leg_B 5 ee eulers angles : [-2.618  1.571 -0.785]\n"
     ]
    }
   ],
   "source": [
    "fig = plt.figure()\n",
    "mpld3.enable_notebook()\n",
    "plt.rcParams[\"figure.figsize\"] = [15,15]\n",
    "ax = plt.axes(projection=\"3d\")\n",
    "ax.set_xlim3d(-0.4,0.4)\n",
    "ax.set_ylim3d(-0.4,0.4)\n",
    "ax.set_zlim3d(-0.4,0.4)\n",
    "ax.set_xlabel('X Axes')\n",
    "ax.set_ylabel('Y Axes')\n",
    "ax.set_zlabel('Z Axes')\n",
    "\n",
    "for k,serial in enumerate(parallel2.serials):\n",
    "    for j in enumerate(T) :\n",
    "        T = serial.global_T_matrixs\n",
    "        mat = T\n",
    "        points_x = []\n",
    "        points_y = []\n",
    "        points_z = []\n",
    "        for i,M in enumerate(mat):\n",
    "            x_p = M[0,3]\n",
    "            y_p = M[1,3]\n",
    "            z_p = M[2,3]\n",
    "            x_ax= M[:3,0]\n",
    "            y_ax= M[:3,1]\n",
    "            z_ax= M[:3,2]\n",
    "            ax.quiver(x_p,y_p,z_p,x_ax[0],x_ax[1],x_ax[2],length=0.03, normalize=True,color=\"red\")\n",
    "            ax.quiver(x_p,y_p,z_p,y_ax[0],y_ax[1],y_ax[2],length=0.03, normalize=True,color=\"blue\")\n",
    "            ax.quiver(x_p,y_p,z_p,z_ax[0],z_ax[1],z_ax[2],length=0.03, normalize=True,color=\"green\")\n",
    "            ax.scatter3D(x_p,y_p,z_p,color=\"black\",zorder=2) \n",
    "            points_x.append(x_p)\n",
    "            points_y.append(y_p)\n",
    "            points_z.append(z_p)\n",
    "        ax.plot(points_x,points_y,points_z,color=\"black\")\n",
    "    print(\"---\")\n",
    "    print(f\"leg_U {k} ee location : {np.round(T[-1][0:3,3],3)}\")\n",
    "    print(f\"leg_U {k} ee eulers angles : {np.round(euler_angles(T[-1]),3)}\")\n",
    "    print(f\"leg_U {k} ee cilindric {np.round(t_cil(T[-1][0:3,3][0],T[-1][0:3,3][1],T[-1][0:3,3][2]),3)}\")\n",
    "for k,serial in enumerate(parallel1.serials):\n",
    "    for j in enumerate(T) :\n",
    "        T = serial.global_T_matrixs\n",
    "        mat = T\n",
    "        points_x = []\n",
    "        points_y = []\n",
    "        points_z = []\n",
    "        for i,M in enumerate(mat):\n",
    "            x_p = M[0,3]\n",
    "            y_p = M[1,3]\n",
    "            z_p = M[2,3]\n",
    "            x_ax= M[:3,0]\n",
    "            y_ax= M[:3,1]\n",
    "            z_ax= M[:3,2]\n",
    "            ax.quiver(x_p,y_p,z_p,x_ax[0],x_ax[1],x_ax[2],length=0.03, normalize=True,color=\"red\")\n",
    "            ax.quiver(x_p,y_p,z_p,y_ax[0],y_ax[1],y_ax[2],length=0.03, normalize=True,color=\"blue\")\n",
    "            ax.quiver(x_p,y_p,z_p,z_ax[0],z_ax[1],z_ax[2],length=0.03, normalize=True,color=\"green\")\n",
    "            ax.scatter3D(x_p,y_p,z_p,color=\"black\",zorder=2) #plot point\n",
    "            points_x.append(x_p)\n",
    "            points_y.append(y_p)\n",
    "            points_z.append(z_p)\n",
    "        ax.plot(points_x,points_y,points_z,color=\"black\")\n",
    "    print(\"---\")\n",
    "    print(f\"leg_B {k} ee location : {np.round(T[-1][0:3,3],3)}\")\n",
    "    print(f\"leg_B {k} ee cilindric {np.round(t_cil(T[-1][0:3,3][0],T[-1][0:3,3][1],T[-1][0:3,3][2]),3)}\")\n",
    "    print(f\"leg_B {k} angles : {np.round(serial.q_list,3)} \")\n",
    "    print(f\"leg_B {k} ee eulers angles : {np.round(euler_angles(T[-1]),3)}\")\n"
   ]
  },
  {
   "cell_type": "code",
   "execution_count": null,
   "metadata": {},
   "outputs": [],
   "source": []
  }
 ]
}